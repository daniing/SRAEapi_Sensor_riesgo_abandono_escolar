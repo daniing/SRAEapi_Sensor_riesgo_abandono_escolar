{
 "cells": [
  {
   "cell_type": "markdown",
   "metadata": {},
   "source": [
    "# Preprocesamiento de Datos Estudiantiles: caso de estudio IEBS"
   ]
  },
  {
   "cell_type": "markdown",
   "metadata": {},
   "source": [
    "## Metodología\n",
    "- Paso 1: Limpieza de datos\n",
    "- Paso 2: Transformar direcciones a coordenadas de latidud y longitud\n",
    "- Paso 3: Normalización y escalado de datos\n",
    "- Paso 4: Transformación de características estudiantiles basada en métricas"
   ]
  },
  {
   "cell_type": "markdown",
   "metadata": {},
   "source": [
    "## Configuración Inicial"
   ]
  },
  {
   "cell_type": "code",
   "execution_count": null,
   "metadata": {},
   "outputs": [],
   "source": [
    "%matplotlib notebook\n",
    "%matplotlib inline\n",
    "import numpy as np\n",
    "import pandas as pd\n",
    "import seaborn as sb\n",
    "from googlemaps import Client\n",
    "import pylab\n",
    "import pingouin as pg\n",
    "import math\n",
    "from math import sin, cos, sqrt, atan2, radians, asin, pi\n",
    "import matplotlib.pyplot as plt\n",
    "from matplotlib import cm\n",
    "from sklearn.feature_selection import SelectKBest,chi2, mutual_info_classif, f_classif\n",
    "from sklearn.cluster import KMeans\n",
    "from sklearn.metrics import pairwise_distances_argmin_min\n",
    "from sklearn.model_selection import train_test_split\n",
    "from sklearn.decomposition import PCA\n",
    "from sklearn.preprocessing import StandardScaler, MinMaxScaler, LabelEncoder\n",
    "import scipy.stats as stats\n",
    "from scipy.stats import shapiro, ks_2samp, ks_1samp, kstest, chi2_contingency, norm"
   ]
  },
  {
   "cell_type": "code",
   "execution_count": null,
   "metadata": {},
   "outputs": [],
   "source": [
    "dataset_ini = pd.read_csv('/Users/Downloads/Dataset/Final_Dataset/Data_original_IEBS.csv')\n",
    "#dataset_ini.info()"
   ]
  },
  {
   "cell_type": "markdown",
   "metadata": {},
   "source": [
    "### Paso 1: Limpieza de datos\n",
    "\n",
    "- Se eliminan los registros vacíos e inconsistentes.\n",
    "- Al final también se deben eliminar los datos atípico (ruido en los datos)."
   ]
  },
  {
   "cell_type": "code",
   "execution_count": null,
   "metadata": {},
   "outputs": [],
   "source": [
    "missing_data = dataset_ini.isnull()\n",
    "\n",
    "for column in missing_data.columns.values.tolist():\n",
    "    print(column)\n",
    "    print(missing_data[column].value_counts())\n",
    "    print('')"
   ]
  },
  {
   "cell_type": "code",
   "execution_count": null,
   "metadata": {},
   "outputs": [],
   "source": [
    "dataset_ini.replace('?', np.nan, inplace = True)\n",
    "#dataset_ini.dropna(subset=['age'], axis = 0, inplace= True)\n",
    "dataset_ini.reset_index(drop = True, inplace = True)\n",
    "\n",
    "#dataset_ini['gender'].replace(np.nan, 'Top string', inplace = True)\n",
    "#average_age = dataset_ini['age'].astype(float).mean(axis = 0)\n",
    "#dataset_ini['course'].replace(np.nan, average_column_name, inplace = True)"
   ]
  },
  {
   "cell_type": "markdown",
   "metadata": {},
   "source": [
    "### Paso 2: Transformar direcciones a coordenadas de latidud y longitud\n",
    "- Se utiliza una clave para utilizar la API de google (tiene un costo) y georreferenciar las direcciones a partir de las características dirección de residencia y ciudad de residencia. Luego, se devuelve el valor en coordenadas de latitud y longitud. Es importante tener en cuenta que se debe especificar la ciudad junto con la dirección. Ejemplo: CL 104 #81 -13, medellín colombia. "
   ]
  },
  {
   "cell_type": "code",
   "execution_count": null,
   "metadata": {},
   "outputs": [],
   "source": [
    "# Convertir direcciones con la API de google\n",
    "#KEY = 'AIzaSyCAHqWE9DbBOGsOjVxIojZMrYt_ZuxNoD' # Key para usar API de google (key de prueba)\n",
    "gmaps = Client(key=KEY)\n",
    "\n",
    "df_address = dataset_ini\n",
    "\n",
    "def get_coordinates(address):\n",
    "    #city = 'medellin, Colombia'\n",
    "    #geocode_result = gmaps.geocode(str(address) +' '+ city)\n",
    "    geocode_result = gmaps.geocode(str(address))\n",
    "    if len(geocode_result) > 0:\n",
    "        return list(geocode_result[0]['geometry']['location'].values())\n",
    "    else:\n",
    "        return [np.NaN, np.NaN]\n",
    "\n",
    "coordinates = df_address['address'].apply(lambda x: pd.Series(get_coordinates(x), index=['LATITUDE', 'LONGITUDE']))\n",
    "df_address = pd.concat([df_address[:], coordinates[:]], axis=\"columns\")\n",
    "df_address"
   ]
  },
  {
   "cell_type": "markdown",
   "metadata": {},
   "source": [
    "### Paso 3: Normalización y escalado de datos\n",
    "\n",
    "- Se utiliza el escalado estandar de los datos, este tipo de escalado de los datos, transforma cada valor en un rango alrededor de la media 0 y la desviación estándar 1, es decir, cada valor será escalado restando la media y dividiendo por la desviación estándar.\n",
    "\\begin{equation}\n",
    "\\label{equ:standard}\n",
    "\\begin{split}\n",
    "\\hspace{6cm} z& = \\frac{x - u}{s}\n",
    "\\end{split}\n",
    "\\end{equation}"
   ]
  },
  {
   "cell_type": "code",
   "execution_count": null,
   "metadata": {},
   "outputs": [],
   "source": [
    "scaler= StandardScaler()\n",
    "\n",
    "dataset_ini_ = dataset_ini.drop(['Class'], axis=1) # quito la variable dependiente \"Y\"\n",
    "\n",
    "scaler.fit(dataset_ini_) # calculo la media para poder hacer la transformacion\n",
    "dataset_ini_scaled=scaler.transform(dataset_ini_)# Ahora si, escalo los datos"
   ]
  },
  {
   "cell_type": "markdown",
   "metadata": {},
   "source": [
    "### Paso 4: Transformación de características estudiantiles basada en métricas (característica demográficas)\n",
    "- Aquí se utilizan las características de latitud y longitud de ubicación de la residencia del estudiante para calcular la distancia que existe entre ese punto y la institución educativa.\n",
    "Fórmula de Haversine:\n",
    "    \\begin{equation} d=2r\\,sen^{-1}\\Biggl(\\sqrt{sen^2\\biggl(\\frac{lat2-lat1}{2}\\biggr)+cos(lat1)\\,cos(lat2)\\,sen^2\\biggl(\\frac{lon2-lon1}{2}\\biggr)}\\Biggr)\n",
    "    \\end{equation}\n",
    "- Se calcula la edad del estudiante con respecto a una fecha dada (fracción)\n",
    "- Se calcula la extradad:\n",
    "\\begin{equation}\n",
    "Edad_{teorica}=Grado_{ingreso} + 5\n",
    "\\end{equation}\n",
    "\\begin{equation}\n",
    "Riesgo_{1}= Edad_{ingreso} - Edad_{teorica}\n",
    "\\end{equation}\n",
    "- Se calcula la repitencia de grados\n",
    "\\begin{equation}\n",
    "Riesgo_{2}= (2019 - Year_{in}  + Grado_{in}) -  Grado_{2019}\n",
    "\\end{equation}\n",
    "- Se transforma los valores de la característica Puntaje_sisbén: Nivel 1: 0 $-$ 11, Nivel 2: 12 $-$ 22, Nivel 3: 23 $-$ 43, Nivel 4: 44 $-$ 65, Nivel 5: 66 $-$ 79, Nivel 6: 80 $-$ 100\n",
    "\\begin{equation}\n",
    "Riesgo_{2}= (2019 - Year_{in}  + Grado_{in}) -  Grado_{2019}\n",
    "\\end{equation}\n",
    "\\begin{equation}\n",
    "Riesgo_{3}= Nivel Sisben III\n",
    "\\end{equation}\n",
    "- se binariza los valores de la característica de hermanos_colegio: si tiene hermanos = 1 sino = 0\n",
    "\\begin{equation}\n",
    "Riesgo_{4}=binarizacion\n",
    "\\end{equation}\n"
   ]
  },
  {
   "cell_type": "code",
   "execution_count": null,
   "metadata": {},
   "outputs": [],
   "source": [
    "import datetime as dt \n",
    "from datetime import datetime, date, time, timedelta\n",
    "#import calendar\n",
    "fech1_str = '8/11/2008'\n",
    "#fech1 = dt.datetime(2010, 08, 01)\n",
    "fech1 = datetime.strptime(fech1_str, '%d/%m/%Y').date()\n",
    "fech2 = datetime.now().date()# criterio de medición (año)\n",
    "#edad = round((fech2-fech1)/dt.timedelta(365,0,0,0),2)\n",
    "#print(edad) \n",
    "edad_ = round((fech2-fech1)/dt.timedelta(365,5,49,12),2) #promedio de años comunes y bisiestos \n",
    "#print(edad_)"
   ]
  },
  {
   "cell_type": "code",
   "execution_count": 33,
   "metadata": {},
   "outputs": [],
   "source": [
    "df_address = pd.read_csv('/Users/Downloads/Dataset/AcademicDATA/1/20201121/address/output_address_3017.csv') \n",
    "#df_address = pd.read_csv('/Users//Downloads/Dataset/Final_dataset/datasets/Data_1449_416.csv') "
   ]
  },
  {
   "cell_type": "code",
   "execution_count": 47,
   "metadata": {},
   "outputs": [],
   "source": [
    "# convert decimal degrees to radians \n",
    "df_address['lat1'] = df_address['latitude'].apply(math.radians)\n",
    "df_address['lon1'] = df_address['longitude'].apply(math.radians)\n",
    "lon2 = math.radians(-75.57433)\n",
    "lat2 = math.radians(6.307670)\n",
    "#lon1, lat1, lon2, lat2 = map(radians, [lon1, lat1, lon2, lat2])\n",
    "# haversine formula \n",
    "df_address['dlon'] = lon2 - df_address['lon1'] \n",
    "df_address['dlat'] = lat2 - df_address['lat1'] \n",
    "\n",
    "R = 6371 #radio de la tierra\n",
    "d_1 = (np.sin((df_address['dlat'])/2))**2 + np.cos(df_address['lat1'])* np.cos(lat2) * (np.sin((df_address['dlon'])/2))**2\n",
    "df_address['distance'] = 2 * R * np.arcsin(np.sqrt(d_1)) \n",
    "\n",
    "#df_address"
   ]
  },
  {
   "cell_type": "code",
   "execution_count": null,
   "metadata": {},
   "outputs": [],
   "source": [
    "# visualizar datos atípicos con respecto a la ubicación geográfica para luego eliminarlos\n",
    "lat = np.array(df_address['latitude'])\n",
    "lon = np.array(df_address['longitude'])\n",
    "\n",
    "media = lat.mean()\n",
    "std_x = lat.std()*2\n",
    "media_y =lon.mean()\n",
    "std_y = lon.std()*2\n",
    "\n",
    "print(media)\n",
    "print(std_x)\n",
    "print(media_y)\n",
    "print(std_y)\n",
    "\n",
    "colors = ['blue']*len(lat)\n",
    "\n",
    "for index, x in enumerate(lat):\n",
    "    if abs(x-media) > std_x:\n",
    "        colors[index] = 'red'      \n",
    "        \n",
    "for index, x in enumerate(lon):\n",
    "    if abs(x-media_y) > std_y:\n",
    "        colors[index] = 'red'\n",
    "\n",
    "plt.figure()   \n",
    "plt.scatter(lat, lon, s=2, color=colors)\n",
    "plt.axhline(media_y, color='k', linestyle='--')\n",
    "plt.axvline(media, color='k', linestyle='--')\n",
    " \n",
    "v=media     #x-position of the center\n",
    "u=media_y    #y-position of the center\n",
    "b=std_x     #radius on the x-axis\n",
    "a=std_y    #radius on the y-axis\n",
    " \n",
    "t = np.linspace(0, 2*pi, 100)\n",
    "plt.plot(v+b*np.cos(t), u+a*np.sin(t))\n",
    " \n",
    "plt.xlabel('Latitude')\n",
    "plt.ylabel('Longitude')\n",
    "plt.show()"
   ]
  },
  {
   "cell_type": "markdown",
   "metadata": {},
   "source": [
    "### Paso 4: Transformación de características estudiantiles basada en métricas (característica académicas)\n",
    "Como primera medida calcular el promedio entre características, así:\n",
    "Promedio_CNM: se calculó el promedio entre el valor de las características de ciencias naturales y matemáticas, las cuales tenían una correlación de 0.60:\n",
    "    \\begin{equation} \n",
    "    \\hspace{1cm} \\frac{Ciencias \\ Naturales + Mat}{2}\n",
    "    \\end{equation}\n",
    "Promedio_ART: se calculó el promedio entre el valor de las características de artes y tecnología cuya correlación es de 0.47:\n",
    "    \\begin{equation} \n",
    "    \\hspace{1cm} \\frac{Artes + Tecno}{2}\n",
    "    \\end{equation}\n",
    "Promedio_CSCP: se calculó el promedio entre el valor de las características de cátedra de paz y ciencias sociales, las cuales tenían una correlación de 0.61:\n",
    "    \\begin{equation} \n",
    "    \\hspace{1cm} \\frac{Catedra \\ de \\ Paz + Ciencias \\ Sociales}{2}\n",
    "    \\end{equation}\n",
    "Promedio_ESIN: se calculó el promedio entre el valor de las características de español inglés cuya correlación es de 0.55:\n",
    "    \\begin{equation} \n",
    "    \\hspace{1cm} \\frac{Esp + Ing}{2}\n",
    "    \\end{equation}\n",
    "Promedio_ETR: se calculó el promedio entre el valor de las características de ética y religión, las cuales tenían una correlación de 0.55:\n",
    "    \\begin{equation} \n",
    "    \\hspace{1cm} \\frac{Etica + Rel}{2}\n",
    "    \\end{equation}\n",
    "Promedio_Aaih: se calculó el promedio entre el valor de las asignaturas de alta intensidad horaria:\n",
    "    \\begin{equation} \n",
    "    \\hspace{1cm}\\frac{C.Naturales + Esp + Mat + C. Sociales + Ing}{5}\n",
    "    \\end{equation}\n",
    "Promedio_Abih: se calculó el promedio entre el valor de las asignaturas de baja intensidad horaria:\n",
    "    \\begin{equation} \n",
    "    \\hspace{1cm}\\frac{Etica + Rel + Tecno + Empren+ Deport + Art + C. de Paz}{7}\n",
    "    \\end{equation}\n",
    "Riesgo 1: riesgo de deserción con respecto a la asignatura de ciencias naturales:\n",
    "    \\begin{equation}\n",
    "    \\hspace{1cm}Riesgo_{1}= Valor_{CN} \\times \\frac{ Prom_{A_{aih}} + Prom_{A_{bih}}}{2}; \\ Valor_{CN} = \\frac{Nota_{CN}}{5}\n",
    "    \\end{equation}\n",
    "Riesgo 2: riesgo de deserción con respecto a la asignatura de emprendimiento:\n",
    "    \\begin{equation}\n",
    "    \\hspace{1cm}Riesgo_{2}= Valor_{Emprend} \\times \\frac{Prom_{A_{aih}} + Prom_{A_{bih}}}{2} ; \\ Valor_{Emp} = \\frac{Nota_{Emp}}{5}\n",
    "    \\end{equation}\n",
    "Riesgo 3:riesgo de deserción con respecto a la asignatura de matemáticas:\n",
    "    \\begin{equation}\n",
    "    \\hspace{1cm}Riesgo_{3}= Valor_{Mat} \\times \\frac{ Prom_{A_{aih}} + Prom_{A_{bih}}}{2}; \\ Valor_{Mat} = \\frac{Nota_{Mat}}{5}\n",
    "    \\end{equation}\n",
    "Riesgo 4: riesgo de deserción con respecto a la asignatura de deportes:\n",
    "    \\begin{equation}\n",
    "    \\hspace{1cm}Riesgo_{4}= Valor_{Deport} \\times \\frac{Prom_{A_{aih}} + Prom_{A_{bih}}}{2}; \\ Valor_{Dep} = \\frac{Nota_{Dep}}{5}\n",
    "    \\end{equation}"
   ]
  },
  {
   "cell_type": "code",
   "execution_count": null,
   "metadata": {},
   "outputs": [],
   "source": []
  }
 ],
 "metadata": {
  "kernelspec": {
   "display_name": "Python 3",
   "language": "python",
   "name": "python3"
  },
  "language_info": {
   "codemirror_mode": {
    "name": "ipython",
    "version": 3
   },
   "file_extension": ".py",
   "mimetype": "text/x-python",
   "name": "python",
   "nbconvert_exporter": "python",
   "pygments_lexer": "ipython3",
   "version": "3.8.3"
  }
 },
 "nbformat": 4,
 "nbformat_minor": 4
}
